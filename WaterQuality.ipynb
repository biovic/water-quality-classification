{
  "nbformat": 4,
  "nbformat_minor": 0,
  "metadata": {
    "colab": {
      "name": "WaterQuality.ipynb",
      "provenance": [],
      "collapsed_sections": []
    },
    "kernelspec": {
      "name": "python3",
      "display_name": "Python 3"
    },
    "accelerator": "GPU"
  },
  "cells": [
    {
      "cell_type": "code",
      "metadata": {
        "id": "9VOeeIBpEdfx",
        "colab_type": "code",
        "colab": {}
      },
      "source": [
        "import numpy as np\n",
        "import pandas as pd\n",
        "import matplotlib.pyplot as plt"
      ],
      "execution_count": 0,
      "outputs": []
    },
    {
      "cell_type": "code",
      "metadata": {
        "id": "LSOHRjhSHRiw",
        "colab_type": "code",
        "colab": {
          "base_uri": "https://localhost:8080/",
          "height": 35
        },
        "outputId": "19442732-8bd1-4fb4-d960-f42e72057fc8"
      },
      "source": [
        "!git clone https://github.com/biovic/water-quality-classification"
      ],
      "execution_count": 98,
      "outputs": [
        {
          "output_type": "stream",
          "text": [
            "fatal: destination path 'water-quality-classification' already exists and is not an empty directory.\n"
          ],
          "name": "stdout"
        }
      ]
    },
    {
      "cell_type": "code",
      "metadata": {
        "id": "B93Pd6atGore",
        "colab_type": "code",
        "colab": {
          "base_uri": "https://localhost:8080/",
          "height": 53
        },
        "outputId": "8810adc5-17a5-4ecf-df7c-389ab3171a94"
      },
      "source": [
        "!ls water-quality-classification/data"
      ],
      "execution_count": 99,
      "outputs": [
        {
          "output_type": "stream",
          "text": [
            " data.pdf\t      readme.md\t\t  'Water Quality Report Swat Final.pdf'\n",
            " pakistan_river.csv   water-11-02210.pdf\n"
          ],
          "name": "stdout"
        }
      ]
    },
    {
      "cell_type": "code",
      "metadata": {
        "id": "iVXUmOBtGsqo",
        "colab_type": "code",
        "colab": {
          "base_uri": "https://localhost:8080/",
          "height": 343
        },
        "outputId": "2da6af5b-7f6b-421d-fbd0-dafcd267468c"
      },
      "source": [
        "data_water=pd.read_csv(\"water-quality-classification/data/pakistan_river.csv\")\n",
        "data_water.head()\n",
        "# print(len(data_water))"
      ],
      "execution_count": 100,
      "outputs": [
        {
          "output_type": "execute_result",
          "data": {
            "text/html": [
              "<div>\n",
              "<style scoped>\n",
              "    .dataframe tbody tr th:only-of-type {\n",
              "        vertical-align: middle;\n",
              "    }\n",
              "\n",
              "    .dataframe tbody tr th {\n",
              "        vertical-align: top;\n",
              "    }\n",
              "\n",
              "    .dataframe thead th {\n",
              "        text-align: right;\n",
              "    }\n",
              "</style>\n",
              "<table border=\"1\" class=\"dataframe\">\n",
              "  <thead>\n",
              "    <tr style=\"text-align: right;\">\n",
              "      <th></th>\n",
              "      <th>No</th>\n",
              "      <th>Location</th>\n",
              "      <th>Owned by</th>\n",
              "      <th>Source</th>\n",
              "      <th>Depth</th>\n",
              "      <th>EC</th>\n",
              "      <th>pH</th>\n",
              "      <th>Taste</th>\n",
              "      <th>Color</th>\n",
              "      <th>Odor</th>\n",
              "      <th>Turb</th>\n",
              "      <th>Ca</th>\n",
              "      <th>Hard</th>\n",
              "      <th>Mg</th>\n",
              "      <th>Alk</th>\n",
              "      <th>HCO3</th>\n",
              "      <th>CO3</th>\n",
              "      <th>Cl</th>\n",
              "      <th>K</th>\n",
              "      <th>Na</th>\n",
              "      <th>NO3</th>\n",
              "      <th>SO4</th>\n",
              "      <th>TDS</th>\n",
              "      <th>F</th>\n",
              "      <th>As</th>\n",
              "      <th>Total Coliforms</th>\n",
              "      <th>E.Coli</th>\n",
              "      <th>\"Safe/Unsafe\"</th>\n",
              "    </tr>\n",
              "  </thead>\n",
              "  <tbody>\n",
              "    <tr>\n",
              "      <th>0</th>\n",
              "      <td>1</td>\n",
              "      <td>Akhun Baba, U/C \\nShagai</td>\n",
              "      <td>TMA</td>\n",
              "      <td>Tube well</td>\n",
              "      <td>100</td>\n",
              "      <td>470.0</td>\n",
              "      <td>8.1</td>\n",
              "      <td>Un obj</td>\n",
              "      <td>Clear</td>\n",
              "      <td>O less</td>\n",
              "      <td>0.20</td>\n",
              "      <td>44</td>\n",
              "      <td>250</td>\n",
              "      <td>34.02</td>\n",
              "      <td>3.6</td>\n",
              "      <td>180</td>\n",
              "      <td>BDL</td>\n",
              "      <td>25.0</td>\n",
              "      <td>2.0</td>\n",
              "      <td>8</td>\n",
              "      <td>2.0</td>\n",
              "      <td>45.0</td>\n",
              "      <td>275</td>\n",
              "      <td>0.21</td>\n",
              "      <td>0.31</td>\n",
              "      <td>Nil</td>\n",
              "      <td>Nil</td>\n",
              "      <td>Safe</td>\n",
              "    </tr>\n",
              "    <tr>\n",
              "      <th>1</th>\n",
              "      <td>2</td>\n",
              "      <td>Umar Sadiq</td>\n",
              "      <td>-</td>\n",
              "      <td>Tap</td>\n",
              "      <td>NaN</td>\n",
              "      <td>500.0</td>\n",
              "      <td>8.9</td>\n",
              "      <td>Un obj</td>\n",
              "      <td>Clear</td>\n",
              "      <td>O less</td>\n",
              "      <td>0.52</td>\n",
              "      <td>40</td>\n",
              "      <td>260</td>\n",
              "      <td>38.88</td>\n",
              "      <td>4.0</td>\n",
              "      <td>200</td>\n",
              "      <td>30</td>\n",
              "      <td>25.0</td>\n",
              "      <td>1.0</td>\n",
              "      <td>10</td>\n",
              "      <td>3.4</td>\n",
              "      <td>35.0</td>\n",
              "      <td>285</td>\n",
              "      <td>NaN</td>\n",
              "      <td>NaN</td>\n",
              "      <td>Nil</td>\n",
              "      <td>Nil</td>\n",
              "      <td>Safe</td>\n",
              "    </tr>\n",
              "    <tr>\n",
              "      <th>2</th>\n",
              "      <td>3</td>\n",
              "      <td>Community Base</td>\n",
              "      <td>-</td>\n",
              "      <td>Hand Pump</td>\n",
              "      <td>NaN</td>\n",
              "      <td>740.0</td>\n",
              "      <td>7.9</td>\n",
              "      <td>Un obj</td>\n",
              "      <td>Clear</td>\n",
              "      <td>O less</td>\n",
              "      <td>0.61</td>\n",
              "      <td>52</td>\n",
              "      <td>350</td>\n",
              "      <td>53.46</td>\n",
              "      <td>5.0</td>\n",
              "      <td>250</td>\n",
              "      <td>BDL</td>\n",
              "      <td>75.0</td>\n",
              "      <td>1.0</td>\n",
              "      <td>20</td>\n",
              "      <td>5.5</td>\n",
              "      <td>35.0</td>\n",
              "      <td>411</td>\n",
              "      <td>NaN</td>\n",
              "      <td>NaN</td>\n",
              "      <td>4</td>\n",
              "      <td>Nil</td>\n",
              "      <td>Unsafe</td>\n",
              "    </tr>\n",
              "    <tr>\n",
              "      <th>3</th>\n",
              "      <td>4</td>\n",
              "      <td>Abdul Malik</td>\n",
              "      <td>-</td>\n",
              "      <td>Tap</td>\n",
              "      <td>NaN</td>\n",
              "      <td>490.0</td>\n",
              "      <td>8.2</td>\n",
              "      <td>Un obj</td>\n",
              "      <td>Clear</td>\n",
              "      <td>O less</td>\n",
              "      <td>0.41</td>\n",
              "      <td>40</td>\n",
              "      <td>240</td>\n",
              "      <td>34.02</td>\n",
              "      <td>3.6</td>\n",
              "      <td>180</td>\n",
              "      <td>BDL</td>\n",
              "      <td>25.0</td>\n",
              "      <td>1.0</td>\n",
              "      <td>8</td>\n",
              "      <td>3.1</td>\n",
              "      <td>45.0</td>\n",
              "      <td>275</td>\n",
              "      <td>NaN</td>\n",
              "      <td>NaN</td>\n",
              "      <td>10</td>\n",
              "      <td>Nil</td>\n",
              "      <td>Unsafe</td>\n",
              "    </tr>\n",
              "    <tr>\n",
              "      <th>4</th>\n",
              "      <td>5</td>\n",
              "      <td>Naseer Khan</td>\n",
              "      <td>-</td>\n",
              "      <td>Tap</td>\n",
              "      <td>NaN</td>\n",
              "      <td>470.0</td>\n",
              "      <td>8.2</td>\n",
              "      <td>Un obj</td>\n",
              "      <td>Clear</td>\n",
              "      <td>O less</td>\n",
              "      <td>0.35</td>\n",
              "      <td>40</td>\n",
              "      <td>240</td>\n",
              "      <td>34.02</td>\n",
              "      <td>3.6</td>\n",
              "      <td>180</td>\n",
              "      <td>BDL</td>\n",
              "      <td>25.0</td>\n",
              "      <td>1.0</td>\n",
              "      <td>8</td>\n",
              "      <td>3.0</td>\n",
              "      <td>44.0</td>\n",
              "      <td>273</td>\n",
              "      <td>NaN</td>\n",
              "      <td>NaN</td>\n",
              "      <td>10</td>\n",
              "      <td>Nil</td>\n",
              "      <td>Unsafe</td>\n",
              "    </tr>\n",
              "  </tbody>\n",
              "</table>\n",
              "</div>"
            ],
            "text/plain": [
              "   No                  Location Owned by  ... Total Coliforms E.Coli   \"Safe/Unsafe\"\n",
              "0   1  Akhun Baba, U/C \\nShagai      TMA  ...             Nil    Nil            Safe\n",
              "1   2                Umar Sadiq        -  ...             Nil    Nil            Safe\n",
              "2   3            Community Base        -  ...               4    Nil          Unsafe\n",
              "3   4               Abdul Malik        -  ...              10    Nil          Unsafe\n",
              "4   5               Naseer Khan        -  ...              10    Nil          Unsafe\n",
              "\n",
              "[5 rows x 28 columns]"
            ]
          },
          "metadata": {
            "tags": []
          },
          "execution_count": 100
        }
      ]
    },
    {
      "cell_type": "code",
      "metadata": {
        "id": "8of0sH0lHqZW",
        "colab_type": "code",
        "colab": {
          "base_uri": "https://localhost:8080/",
          "height": 331
        },
        "outputId": "e7ac1feb-8537-4f46-c0b6-929ffca7ac6a"
      },
      "source": [
        "num_of_chars=28\n",
        "num_of_output=1\n",
        "num_of_data=len(data_water)\n",
        "\n",
        "counter_safe=0;\n",
        "counter_unsafe=0;\n",
        "total_safe_peril=[]\n",
        "number_safety=[]\n",
        "\n",
        "# dict_change={\"7\":\"Un obj\",\"8\":\"Clear\",\"9\":\"O less\",\"16\":\"BDL\",\"25\":\"Nil\",\"26\":\"Nil\"}\n",
        "# dict_change_keys= np.array(list(dict_change.keys()))\n",
        "# dict_change_values= np.array(list(dict_change.values()))\n",
        "# print(list(dict_change.values()))\n",
        "\n",
        "\n",
        "for i in range(num_of_data):\n",
        "  if(data_water.iloc[i,7]==\"Un obj\"):\n",
        "    data_water.iloc[i,7]=0\n",
        "  if(data_water.iloc[i,8]==\"Clear\"):\n",
        "    data_water.iloc[i,8]=0\n",
        "  if(data_water.iloc[i,9]==\"O less\" or data_water.iloc[i,9]==\"Oless\"):\n",
        "    data_water.iloc[i,9]=0  \n",
        "  if(data_water.iloc[i,10]==\"BDL\"):\n",
        "    data_water.iloc[i,10]=0\n",
        "  if(data_water.iloc[i,16]==\"BDL\" or data_water.iloc[i,16]==\"\"):\n",
        "    data_water.iloc[i,16]=0\n",
        "  if(data_water.iloc[i,24]==\"BDL\"):\n",
        "    data_water.iloc[i,24]=0\n",
        "  if(data_water.iloc[i,25]==\"Nil\"):\n",
        "    data_water.iloc[i,25]=0\n",
        "  if(data_water.iloc[i,26]==\"Nil\"):\n",
        "    data_water.iloc[i,26]=0\n",
        "\n",
        "for j in range(5,num_of_chars-2):\n",
        "  for i in range(num_of_data):\n",
        "    A= np.array(data_water.iloc[i,j],dtype=np.float64)\n",
        "    whereisNAN= np.isnan(A)\n",
        "    A[whereisNAN]=0\n",
        "    # print(A)\n",
        "    data_water.iloc[i,j]=A\n",
        "\n",
        "  # A= np.array(data_water.iloc[i,24],dtype=np.float64)\n",
        "  # whereisNAN= np.isnan(A)\n",
        "  # A[whereisNAN]=0\n",
        "  # print(A)\n",
        "  # data_water.iloc[i,24]=A\n",
        "\n",
        "# print(data_water.head())\n",
        "print(data_water.iloc[2,23])\n",
        "# # Repair data into quantity\n",
        "# for i in range(num_of_data):\n",
        "#   if(data_water.iloc[i,16]==\"BDL\"):\n",
        "#     data_water.iloc[i,16]=0\n",
        "\n",
        "#output \"safe\"!= \"Safe\"\n",
        "for i in range(num_of_data):\n",
        "  if(data_water.iloc[i,num_of_chars-1]=='safe'):\n",
        "    data_water.iloc[i,num_of_chars-1]='Safe'\n",
        "\n",
        "  # A= np.array(data_water.iloc[i,24])\n",
        "  # whereisNAN= np.isnan(A)\n",
        "  # A[whereisNAN]=0\n",
        "  # print(A)\n",
        "  # data_water.iloc[i,24]=A\n",
        "\n",
        "#determine amount of river safe or unsafe\n",
        "for i in range (num_of_data):\n",
        "  if(data_water.iloc[i,num_of_chars-1]=='Safe'):\n",
        "    counter_safe=counter_safe+1\n",
        "  else:\n",
        "    counter_unsafe=counter_unsafe+1\n",
        "\n",
        "total_safe_peril.append(counter_safe)\n",
        "total_safe_peril.append(counter_unsafe)\n",
        "print(\"Safe/Unsafe\", total_safe_peril)\n",
        "\n",
        "#make the amount into a dictionary to describe into graph bar\n",
        "for i in range(num_of_data):\n",
        "  if(data_water.iloc[i, num_of_chars-1]=='Safe'):\n",
        "    number_safety.append(total_safe_peril[0])\n",
        "  else:\n",
        "    number_safety.append(total_safe_peril[1])\n",
        "\n",
        "# #depict all the data into bar\n",
        "plt.figure(figsize=(3, 4))\n",
        "plt.bar(data_water.iloc[:,num_of_chars-1], number_safety)\n",
        "plt.title(\"Data Water Safety in Pakistan river\")\n",
        "plt.xlabel(\"Safe/Unsafe\")\n",
        "plt.ylabel(\"Number of each category safety for Pakistan river\")\n",
        "plt.show()"
      ],
      "execution_count": 101,
      "outputs": [
        {
          "output_type": "stream",
          "text": [
            "0.0\n",
            "Safe/Unsafe [223, 279]\n"
          ],
          "name": "stdout"
        },
        {
          "output_type": "display_data",
          "data": {
            "image/png": "[encoded data removed]",
            "text/plain": [
              "<Figure size 216x288 with 1 Axes>"
            ]
          },
          "metadata": {
            "tags": [],
            "needs_background": "light"
          }
        }
      ]
    },
    {
      "cell_type": "code",
      "metadata": {
        "id": "-hy4_KB0LF3q",
        "colab_type": "code",
        "colab": {
          "base_uri": "https://localhost:8080/",
          "height": 503
        },
        "outputId": "933f1fd8-5b8e-4d19-f958-bf1fe75474e7"
      },
      "source": [
        "from sklearn.model_selection import train_test_split, cross_val_score\n",
        "\n",
        "#decide X=characteristic water safety, Y=output safe or unsafe\n",
        "X= data_water.iloc[:,5:num_of_chars-2]\n",
        "y= data_water.iloc[:,num_of_chars-1]\n",
        "print(X,y)\n",
        "\n",
        "X_train, X_test, y_train, y_test= train_test_split(X,y,test_size=0.2)\n",
        "\n",
        "print(X_train.shape)\n",
        "print(y_train.shape)\n",
        "\n",
        "# print(data_water.iloc[:,16])"
      ],
      "execution_count": 102,
      "outputs": [
        {
          "output_type": "stream",
          "text": [
            "        EC   pH Taste Color Odor  ...   SO4    TDS     F    As  Total Coliforms\n",
            "0    470.0  8.1   0.0   0.0  0.0  ...  45.0  275.0  0.21  0.31              0.0\n",
            "1    500.0  8.9   0.0   0.0  0.0  ...  35.0  285.0  0.00   0.0              0.0\n",
            "2    740.0  7.9   0.0   0.0  0.0  ...  35.0  411.0  0.00   0.0              4.0\n",
            "3    490.0  8.2   0.0   0.0  0.0  ...  45.0  275.0  0.00   0.0             10.0\n",
            "4    470.0  8.2   0.0   0.0  0.0  ...  44.0  273.0  0.00   0.0             10.0\n",
            "..     ...  ...   ...   ...  ...  ...   ...    ...   ...   ...              ...\n",
            "497  480.0  8.1   0.0   0.0  0.0  ...  21.0  267.0  0.00   0.0              7.0\n",
            "498  485.0  7.6   0.0   0.0  0.0  ...  21.0  267.0  0.00   0.0              0.0\n",
            "499  480.0  7.6   0.0   0.0  0.0  ...  21.0  267.0  0.00   0.0              0.0\n",
            "500  480.0  7.5   0.0   0.0  0.0  ...  21.0  267.0  0.00   0.0              0.0\n",
            "501  475.0  7.5   0.0   0.0  0.0  ...  21.0  267.0  0.00   0.0              0.0\n",
            "\n",
            "[502 rows x 21 columns] 0        Safe\n",
            "1        Safe\n",
            "2      Unsafe\n",
            "3      Unsafe\n",
            "4      Unsafe\n",
            "        ...  \n",
            "497    Unsafe\n",
            "498      Safe\n",
            "499      Safe\n",
            "500      Safe\n",
            "501      Safe\n",
            "Name:  \"Safe/Unsafe\", Length: 502, dtype: object\n",
            "(401, 21)\n",
            "(401,)\n"
          ],
          "name": "stdout"
        }
      ]
    },
    {
      "cell_type": "code",
      "metadata": {
        "id": "BMgSpdLkyiSi",
        "colab_type": "code",
        "colab": {
          "base_uri": "https://localhost:8080/",
          "height": 53
        },
        "outputId": "ddf73dc1-e5a8-42ad-ed5f-a25b575bdd4c"
      },
      "source": [
        "from sklearn.svm import SVC\n",
        "from sklearn.metrics import accuracy_score\n",
        "\n",
        "all_score=[]\n",
        "cv_scores=[]\n",
        "\n",
        "#The model of SVM\n",
        "model = SVC(kernel='linear', C=0.2, random_state=0)\n",
        "\n",
        "#Training the model\n",
        "model.fit(X_train,y_train)\n",
        "y_result = model.predict(X_test)\n",
        "\n",
        "#Error evaluation\n",
        "score = accuracy_score(y_result, y_test)  #find the difference result between prediction and the truth\n",
        "all_score.append(score)\n",
        "\n",
        "print(all_score)\n",
        "#Cross validation score\n",
        "cross_validation= cross_val_score(model, X,y, cv=10)\n",
        "print(\"SVM accuracy:  %0.3f (+/- %0.3f)\" %(cross_validation.mean(), cross_validation.std()*2) )\n",
        "result_cv_score= cross_validation.mean()\n",
        "cv_scores.append(result_cv_score)"
      ],
      "execution_count": 103,
      "outputs": [
        {
          "output_type": "stream",
          "text": [
            "[0.9801980198019802]\n",
            "SVM accuracy:  0.990 (+/- 0.027)\n"
          ],
          "name": "stdout"
        }
      ]
    },
    {
      "cell_type": "code",
      "metadata": {
        "id": "mZg9KxNn8o9M",
        "colab_type": "code",
        "colab": {
          "base_uri": "https://localhost:8080/",
          "height": 35
        },
        "outputId": "2ff6cc2d-f5bb-48d1-90f7-0e0926370bed"
      },
      "source": [
        "# import csv\n",
        "\n",
        "#using random forest\n",
        "all_scores=[]\n",
        "eval_scores=[]\n",
        "\n",
        "from sklearn.ensemble import RandomForestClassifier\n",
        "\n",
        "#Modelling \n",
        "model = RandomForestClassifier(random_state=0, n_estimators=25, n_jobs=2)\n",
        "model.fit(X_train, y_train)\n",
        "\n",
        "y_prediction= model.predict(X_test)\n",
        "\n",
        "#Scoring system\n",
        "score = accuracy_score(y_prediction,y_test)\n",
        "all_scores.append(score)\n",
        "\n",
        "#cross_validation score\n",
        "cross_validation= cross_val_score(model, X,y, cv=10)\n",
        "print(\"RF accuracy:  %0.3f (+/- %0.3f)\" %(cross_validation.mean(), cross_validation.std()*2) )\n",
        "result_cv_score= cross_validation.mean()\n",
        "eval_scores.append(result_cv_score)"
      ],
      "execution_count": 104,
      "outputs": [
        {
          "output_type": "stream",
          "text": [
            "RF accuracy:  0.986 (+/- 0.036)\n"
          ],
          "name": "stdout"
        }
      ]
    },
    {
      "cell_type": "code",
      "metadata": {
        "id": "PO8SSRquOR40",
        "colab_type": "code",
        "colab": {}
      },
      "source": [
        "class kNN():\n",
        "  def __init__(self):\n",
        "      pass\n",
        "\n",
        "  def fit(self, X, y):\n",
        "      self.data = X\n",
        "      self.targets = y\n",
        "\n",
        "  def euclidean_distance(self, X):\n",
        "      \"\"\"\n",
        "      Computes the euclidean distance between the training data and\n",
        "      a new input example or matrix of input examples X\n",
        "      \"\"\"\n",
        "      # input: single data point\n",
        "      if X.ndim == 1:\n",
        "          l2 = np.sqrt(np.sum((self.data - X)**2, axis=1))\n",
        "\n",
        "      # input: matrix of data points\n",
        "      if X.ndim == 2:\n",
        "          n_samples, _ = X.shape\n",
        "          l2 = [np.sqrt(np.sum((self.data - X[i])**2, axis=1)) for i in range(n_samples)]\n",
        "\n",
        "      return np.array(l2)\n",
        "\n",
        "  def predict(self, X, k=1):\n",
        "      \"\"\"\n",
        "      Predicts the classification for an input example or matrix of input examples X\n",
        "      \"\"\"\n",
        "      # step 1: compute distance between input and training data\n",
        "      dists = self.euclidean_distance(X)\n",
        "\n",
        "      # step 2: find the k nearest neighbors and their classifications\n",
        "      if X.ndim == 1:\n",
        "          if k == 1:\n",
        "              nn = np.argmin(dists)\n",
        "              return self.targets[nn]\n",
        "          else:\n",
        "              knn = np.argsort(dists)[:k]\n",
        "              y_knn = self.targets[knn]\n",
        "              max_vote = max(y_knn, key=list(y_knn).count)\n",
        "              return max_vote\n",
        "\n",
        "      if X.ndim == 2:\n",
        "          knn = np.argsort(dists)[:, :k]\n",
        "          y_knn = self.targets[knn]\n",
        "          if k == 1:\n",
        "              return y_knn.T\n",
        "          else:\n",
        "              n_samples, _ = X.shape\n",
        "              max_votes = [max(y_knn[i], key=list(y_knn[i]).count) for i in range(n_samples)]\n",
        "              return max_votes"
      ],
      "execution_count": 0,
      "outputs": []
    },
    {
      "cell_type": "code",
      "metadata": {
        "id": "-CjwBLsMV1op",
        "colab_type": "code",
        "colab": {
          "base_uri": "https://localhost:8080/",
          "height": 35
        },
        "outputId": "8183f422-debb-4d8b-b10e-933a48a6deb8"
      },
      "source": [
        "# model= model_KNN()\n",
        "# model.fit(X_train,y_train)\n",
        "\n",
        "# y_prediction= model.predict(X_train)\n",
        "\n",
        "from sklearn.neighbors import KNeighborsClassifier\n",
        "model = KNeighborsClassifier(n_neighbors=100)\n",
        "\n",
        "# Train the model using the training sets\n",
        "model.fit(X_train,y_train)\n",
        "\n",
        "#Predict Output\n",
        "y_prediction= model.predict(X_test) # 0:Overcast, 2:Mild\n",
        "# print(y_prediction)\n",
        "\n",
        "#Scoring system\n",
        "score = accuracy_score(y_prediction,y_test)\n",
        "all_scores.append(score)\n",
        "\n",
        "#cross_validation score\n",
        "cross_validation= cross_val_score(model, X,y, cv=10)\n",
        "print(\"RF accuracy:  %0.3f (+/- %0.3f)\" %(cross_validation.mean(), cross_validation.std()*2) )\n",
        "result_cv_score= cross_validation.mean()\n",
        "eval_scores.append(result_cv_score)"
      ],
      "execution_count": 136,
      "outputs": [
        {
          "output_type": "stream",
          "text": [
            "RF accuracy:  0.486 (+/- 0.202)\n"
          ],
          "name": "stdout"
        }
      ]
    },
    {
      "cell_type": "code",
      "metadata": {
        "id": "_rW5uh3uZUYy",
        "colab_type": "code",
        "colab": {}
      },
      "source": [
        ""
      ],
      "execution_count": 0,
      "outputs": []
    }
  ]
}